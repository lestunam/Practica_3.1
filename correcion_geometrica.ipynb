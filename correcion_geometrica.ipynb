{
 "cells": [
  {
   "cell_type": "markdown",
   "metadata": {},
   "source": [
    "## Paqueterías, lectura de las imágenes y coordenadas "
   ]
  },
  {
   "cell_type": "code",
   "execution_count": 7,
   "metadata": {},
   "outputs": [],
   "source": [
    "import cv2\n",
    "import numpy as np\n",
    "import matplotlib.pyplot as plt\n",
    "import pandas as pd\n",
    "from PIL import Image, ImageChops\n",
    "from skimage import exposure\n",
    "\n",
    "img_pro = cv2.imread('imagen_proyectada_sin_marco.png')\n",
    "img_ort = cv2.imread('imagen_ortogonal_sin_marco.png')\n",
    "\n",
    "coordenadas_pro = np.array(pd.read_csv('imagen_proyectada_sin_marco.csv', usecols=['X', 'Y']))\n",
    "coordenadas_ort = np.array(pd.read_csv('imagen_ortogonal_sin_marco.csv', usecols=['X', 'Y']))\n",
    "\n"
   ]
  },
  {
   "cell_type": "markdown",
   "metadata": {},
   "source": [
    "## Visualización de las coordenadas en las imágenes"
   ]
  },
  {
   "cell_type": "code",
   "execution_count": 4,
   "metadata": {},
   "outputs": [
    {
     "data": {
      "text/plain": [
       "True"
      ]
     },
     "execution_count": 4,
     "metadata": {},
     "output_type": "execute_result"
    }
   ],
   "source": [
    "for coord in coordenadas_pro:\n",
    "    cv2.circle(img_pro, (coord[0], coord[1]), 5, (0, 0, 255), -1) \n",
    "\n",
    "# Mostrar la imagen\n",
    "cv2.imshow('Imagen con coordenadas resaltadas', img_pro)\n",
    "cv2.waitKey(0)\n",
    "cv2.destroyAllWindows()\n",
    "cv2.imwrite('img_pro_coordenadas.jpg', img_pro)"
   ]
  },
  {
   "cell_type": "code",
   "execution_count": 5,
   "metadata": {},
   "outputs": [
    {
     "data": {
      "text/plain": [
       "True"
      ]
     },
     "execution_count": 5,
     "metadata": {},
     "output_type": "execute_result"
    }
   ],
   "source": [
    "for coord in coordenadas_ort:\n",
    "    cv2.circle(img_ort, (coord[0], coord[1]), 5, (0, 0, 255), -1) \n",
    "\n",
    "cv2.imshow('Imagen con coordenadas resaltadas', img_ort)\n",
    "cv2.waitKey(0)\n",
    "cv2.destroyAllWindows()\n",
    "cv2.imwrite('img_pro_ort.jpg', img_ort)"
   ]
  },
  {
   "cell_type": "code",
   "execution_count": null,
   "metadata": {},
   "outputs": [],
   "source": [
    "# Crear una imagen combinada para mostrar ambas imágenes lado a lado\n",
    "altura_max = max(img_pro.shape[0], img_ort.shape[0])\n",
    "ancho_total = img_pro.shape[1] + img_ort.shape[1]\n",
    "imagen_combinada = np.zeros((altura_max, ancho_total, 3), dtype=np.uint8)\n",
    "\n",
    "# Colocar las imágenes en la imagen combinada\n",
    "imagen_combinada[:img_pro.shape[0], :img_pro.shape[1]] = img_pro\n",
    "imagen_combinada[:img_ort.shape[0], img_pro.shape[1]:] = img_ort\n",
    "\n",
    "# Ajustar las coordenadas de la segunda imagen\n",
    "coordenadas_ort_ajustadas = coordenadas_ort.copy()\n",
    "coordenadas_ort_ajustadas[:, 0] += img_pro.shape[1]\n",
    "\n",
    "# Dibujar líneas entre las coordenadas correspondientes\n",
    "for coord_pro, coord_ort in zip(coordenadas_pro, coordenadas_ort_ajustadas):\n",
    "    cv2.line(imagen_combinada, tuple(coord_pro), tuple(coord_ort), (0, 255, 0), 2)  # Línea verde\n",
    "\n",
    "# Mostrar la imagen combinada\n",
    "cv2.imshow('Imagen con líneas trazadas', imagen_combinada)\n",
    "cv2.waitKey(0)\n",
    "cv2.destroyAllWindows()\n",
    "cv2.imwrite('img_correspondencia.jpg', imagen_combinada)"
   ]
  },
  {
   "cell_type": "markdown",
   "metadata": {},
   "source": [
    "## Cálculo de la matriz H"
   ]
  },
  {
   "cell_type": "code",
   "execution_count": 6,
   "metadata": {},
   "outputs": [],
   "source": [
    "def create_homography_matrix(src, dst):\n",
    "    # Construir la matriz A para Ax = 0\n",
    "    A = []\n",
    "    for i in range(len(src)):\n",
    "        x, y = src[i][0], src[i][1]\n",
    "        u, v = dst[i][0], dst[i][1]\n",
    "        A.append([-x, -y, -1, 0, 0, 0, u*x, u*y, u])\n",
    "        A.append([0, 0, 0, -x, -y, -1, v*x, v*y, v])\n",
    "    \n",
    "    A = np.array(A)\n",
    "    \n",
    "    # Resolver utilizando SVD\n",
    "    U, S, Vh = np.linalg.svd(A)\n",
    "    \n",
    "    # La última fila de Vh corresponde al vector de solución (h11, h12, ..., h33)\n",
    "    H = Vh[-1].reshape(3, 3)\n",
    "    \n",
    "    # Normalizar para que H33 sea igual a 1\n",
    "    H = H / H[-1, -1]\n",
    "    \n",
    "    return H\n"
   ]
  },
  {
   "cell_type": "code",
   "execution_count": 14,
   "metadata": {},
   "outputs": [],
   "source": [
    "def mult_matrices(A, *matrices):\n",
    "    result = np.array(A)\n",
    "    for matrix in matrices:\n",
    "        # Multiplicar usando np.dot\n",
    "        result = np.dot(result, matrix.data)\n",
    "    return result\n",
    "\n",
    "def minimos_cuadrados(A, b):\n",
    "    A = np.array(A)\n",
    "    b = np.array(b)\n",
    "    At = A.transpose()\n",
    "    AtA = mult_matrices(At, A)\n",
    "    AtAinv = np.linalg.inv(AtA)\n",
    "    return mult_matrices(AtAinv, At,b)\n",
    "\n",
    "def t_m(proy, ort, num_imgs):\n",
    "    A = []\n",
    "    b = []\n",
    "\n",
    "    for i in range(num_imgs):\n",
    "        x, y = proy[i]\n",
    "        u, v = ort[i]\n",
    "\n",
    "        A.append([x, y, 1, 0, 0, 0, -u * x, -u * y])\n",
    "        A.append([0, 0, 0, x, y, 1, -v * x, -v * y])\n",
    "\n",
    "        b.append([u])\n",
    "        b.append([v])\n",
    "\n",
    "    A = np.array(A)\n",
    "    b = np.array(b)\n",
    "\n",
    "    #U, S, Vh = np.linalg.svd(A)\n",
    "    #t_matrix = Vh[-1].reshape(3, 3)\n",
    "    #t_matrix = t_matrix / t_matrix[-1, -1]\n",
    "\n",
    "    t_matrix = minimos_cuadrados(A, b)\n",
    "    t_matrix = np.append(t_matrix,[1])\n",
    "\n",
    "    return t_matrix"
   ]
  },
  {
   "cell_type": "code",
   "execution_count": 18,
   "metadata": {},
   "outputs": [
    {
     "name": "stdout",
     "output_type": "stream",
     "text": [
      "[[ 1.37284092e+00 -2.30816363e+00  5.42682656e+02]\n",
      " [ 1.98610028e+00  3.27685751e+00 -7.37491228e+02]\n",
      " [-1.53156943e-04  4.25123015e-03  1.00000000e+00]]\n"
     ]
    }
   ],
   "source": [
    "L =t_m(coordenadas_pro, coordenadas_ort,4)\n",
    "t_r = L.reshape(3, 3)\n",
    "print(t_r)"
   ]
  },
  {
   "cell_type": "code",
   "execution_count": 7,
   "metadata": {},
   "outputs": [
    {
     "name": "stdout",
     "output_type": "stream",
     "text": [
      "Matriz de homografía H:\n",
      "[[ 1.37284092e+00 -2.30816363e+00  5.42682656e+02]\n",
      " [ 1.98610028e+00  3.27685751e+00 -7.37491228e+02]\n",
      " [-1.53156943e-04  4.25123015e-03  1.00000000e+00]]\n"
     ]
    }
   ],
   "source": [
    "H = create_homography_matrix(coordenadas_pro, coordenadas_ort)\n",
    "\n",
    "print(\"Matriz de homografía H:\")\n",
    "print(H)"
   ]
  },
  {
   "cell_type": "code",
   "execution_count": 8,
   "metadata": {},
   "outputs": [
    {
     "name": "stdout",
     "output_type": "stream",
     "text": [
      "Matriz de transformación H:\n",
      "[[ 1.37284092e+00 -2.30816363e+00  5.42682656e+02]\n",
      " [ 1.98610028e+00  3.27685751e+00 -7.37491228e+02]\n",
      " [-1.53156943e-04  4.25123015e-03  1.00000000e+00]]\n"
     ]
    }
   ],
   "source": [
    "J, _ = cv2.findHomography(coordenadas_pro, coordenadas_ort)\n",
    "\n",
    "print(\"Matriz de transformación H:\")\n",
    "print(J)"
   ]
  },
  {
   "cell_type": "markdown",
   "metadata": {},
   "source": [
    "## Transformación lineal en la imagen proyectiva."
   ]
  },
  {
   "cell_type": "code",
   "execution_count": 10,
   "metadata": {},
   "outputs": [
    {
     "data": {
      "text/plain": [
       "True"
      ]
     },
     "execution_count": 10,
     "metadata": {},
     "output_type": "execute_result"
    }
   ],
   "source": [
    "img_pro = cv2.imread('imagen_proyectada_sin_marco.png')\n",
    "\n",
    "# Aplicar la transformación utilizando la matriz H\n",
    "height, width = img_pro.shape[:2]\n",
    "img_corregida = cv2.warpPerspective(img_pro, H, (width, height))\n",
    "\n",
    "# Mostrar la imagen corregida\n",
    "cv2.imshow('Imagen Corregida', img_corregida)\n",
    "cv2.waitKey(0)\n",
    "cv2.destroyAllWindows()\n",
    "\n",
    "# Guardar la imagen corregida\n",
    "cv2.imwrite('imagen_corregida.jpg', img_corregida)\n"
   ]
  },
  {
   "cell_type": "markdown",
   "metadata": {},
   "source": [
    "## Diferencias entre la imagene proyectiva corregida y la imagen ortogonal."
   ]
  },
  {
   "cell_type": "code",
   "execution_count": 8,
   "metadata": {},
   "outputs": [],
   "source": [
    "\n",
    "img_original_ortogonal = cv2.imread(\"imagen_ortogonal_sin_marco.png\")\n",
    "img_corregida_ortogonal = cv2.imread(\"imagen_corregida.jpg\")\n",
    "\n",
    "union = cv2.addWeighted(img_original_ortogonal, 0.5, img_corregida_ortogonal, 0.5, 0)\n",
    "\n",
    "# Color\n",
    "union2 = np.zeros((img_original_ortogonal.shape[0], img_original_ortogonal.shape[1], 3), dtype=np.uint8)\n",
    "union2[:,:,2] = img_original_ortogonal[:,:,0]  # Red channel\n",
    "union2[:,:,1] = img_corregida_ortogonal[:,:,0]  # Cyan (Green + Blue)\n",
    "union2[:,:,0] = img_corregida_ortogonal[:,:,0]  # Cyan (Green + Blue)\n",
    "\n",
    "union3 = np.zeros((img_original_ortogonal.shape[0], img_original_ortogonal.shape[1], 3), dtype=np.uint8)\n",
    "union3[:,:,1] = img_original_ortogonal[:,:,0]  # Green channel\n",
    "union3[:,:,2] = img_corregida_ortogonal[:,:,0]  # Magenta (Red + Blue)\n",
    "union3[:,:,0] = img_corregida_ortogonal[:,:,0]  # Magenta (Red + Blue)\n",
    "\n",
    "# Montage\n",
    "union4 = np.hstack((img_original_ortogonal, img_corregida_ortogonal))\n",
    "\n",
    "# Difference\n",
    "union5 = cv2.absdiff(img_original_ortogonal, img_corregida_ortogonal)\n",
    "\n",
    "# Save images\n",
    "cv2.imwrite(\"blend_scaling_joint.jpg\", union)\n",
    "#cv2.imwrite(\"falsecolor_red_cyan.jpg\", union2)\n",
    "cv2.imwrite(\"falsecolor_green_magenta.jpg\", union3)\n",
    "#cv2.imwrite(\"montage.jpg\", union4)\n",
    "#cv2.imwrite(\"difference.jpg\", union5)\n",
    "\n",
    "# Display image\n",
    "cv2.imshow(\"Blended Image\", union)\n",
    "cv2.waitKey(0)\n",
    "cv2.destroyAllWindows()"
   ]
  }
 ],
 "metadata": {
  "kernelspec": {
   "display_name": "Python 3",
   "language": "python",
   "name": "python3"
  },
  "language_info": {
   "codemirror_mode": {
    "name": "ipython",
    "version": 3
   },
   "file_extension": ".py",
   "mimetype": "text/x-python",
   "name": "python",
   "nbconvert_exporter": "python",
   "pygments_lexer": "ipython3",
   "version": "3.11.4"
  }
 },
 "nbformat": 4,
 "nbformat_minor": 2
}
